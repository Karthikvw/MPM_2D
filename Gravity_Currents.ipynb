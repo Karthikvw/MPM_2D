{
 "metadata": {
  "language_info": {
   "codemirror_mode": {
    "name": "ipython",
    "version": 3
   },
   "file_extension": ".py",
   "mimetype": "text/x-python",
   "name": "python",
   "nbconvert_exporter": "python",
   "pygments_lexer": "ipython3",
   "version": "3.8.8"
  },
  "orig_nbformat": 2,
  "kernelspec": {
   "name": "python3",
   "display_name": "Python 3",
   "language": "python"
  }
 },
 "nbformat": 4,
 "nbformat_minor": 2,
 "cells": [
  {
   "cell_type": "code",
   "execution_count": 1,
   "metadata": {},
   "outputs": [],
   "source": [
    "import os,sys,shutil\n",
    "import numpy as np\n",
    "import matplotlib.pyplot as plt\n",
    "import time\n",
    "from mpm_rect import mpm_rect\n",
    "from mpm_circ import mpm_circ\n",
    "sys.path.append(os.getcwd()+'/build')\n",
    "import MPM_2D\n",
    "import math\n",
    "from tqdm import tqdm, trange"
   ]
  },
  {
   "cell_type": "code",
   "execution_count": 2,
   "metadata": {},
   "outputs": [],
   "source": [
    "#Defining the grid\n",
    "x_0 = 0; y_0 = 0;                                #Origin of X and Y Axis\n",
    "lx = 0.12; ly = 0.08;                            #Length of grid in X and Y direction\n",
    "nx = 24; ny = 16;                                #Number of cells in X and Y direction\n",
    "\n",
    "Grid = MPM_2D.MPM_Grid(L=[lx, ly], N=[nx, ny], O=[x_0, y_0])\n",
    "NoNodes = Grid.NoNodes"
   ]
  },
  {
   "cell_type": "code",
   "execution_count": 3,
   "metadata": {},
   "outputs": [],
   "source": [
    "#Defining the water body\n",
    "visc = 0.01; density_l = 1000; density_h = 1500; bulk_mod = 2e5;\n",
    "MPV_1 =  mpm_rect([0,0], [0.06,0.06], [30,30], 2)\n",
    "Water_l = MPM_2D.MPM_Fluid(visc, density_l, bulk_mod, MPV_1)\n",
    "\n",
    "MPV_2 =  mpm_rect([0.06,0], [0.06,0.06], [30,30], 2)\n",
    "Water_h = MPM_2D.MPM_Fluid(visc, density_h, bulk_mod, MPV_2)\n",
    "\n",
    "Water_l.MPC()[:,18] = -9.81        #Gravity\n",
    "Water_h.MPC()[:,18] = -9.81        #Gravity"
   ]
  },
  {
   "cell_type": "code",
   "execution_count": 5,
   "metadata": {},
   "outputs": [],
   "source": [
    "dx = lx/nx; dy = ly/ny\n",
    "# fig, ax = plt.subplots(1, 1, figsize = (5, 5))                                  #creating axis\n",
    "# ax.set_xlim(x_0,x_0+lx); ax.set_ylim(y_0,y_0+ly)                                #set limits\n",
    "# #for i in range (nx+1):\n",
    "#     #ax.plot([x_0+dx*i,x_0+dx*i],[y_0,ly+y_0], c=(0.9, 0.9, 0.9, 1.0) )          #Plot X lines\n",
    "#     #for j in range (ny+1):\n",
    "#         #ax.plot([x_0,lx+x_0],[y_0+dy*j,y_0+dy*j], c=(0.9, 0.9, 0.9, 1.0) )      #Plot Y lines\n",
    "# ax.scatter(Water_l.MPC()[:,0], Water_l.MPC()[:,1] ,s=Water_l.MPC()[:,4]*1e5,c='c')\n",
    "# ax.scatter(Water_h.MPC()[:,0], Water_h.MPC()[:,1] ,s=Water_h.MPC()[:,4]*1e5,c='b')\n",
    "# ax.set_aspect(aspect='equal')"
   ]
  },
  {
   "cell_type": "code",
   "execution_count": 6,
   "metadata": {},
   "outputs": [
    {
     "output_type": "stream",
     "name": "stdout",
     "text": [
      "Plots will be saved to :  /home/karthik/cpp/mpm_2d_cpp/mixture_plots\n"
     ]
    }
   ],
   "source": [
    "#Prepare postprocessing\n",
    "plotstarget_directory = os.path.join(os.getcwd(), \"mixture_plots\")\n",
    "\n",
    "#Create a new directory to store the plots (delete when there)\n",
    "if os.path.exists(plotstarget_directory) and os.path.isdir(plotstarget_directory):\n",
    "    shutil.rmtree(plotstarget_directory)\n",
    "os.mkdir(plotstarget_directory)\n",
    "print(\"Plots will be saved to : \", plotstarget_directory)\n",
    "\n",
    "def save_plot(current_time):\n",
    "    dx = lx/nx; dy = ly/ny\n",
    "    fig, ax = plt.subplots(1, 1, figsize = (5, 5))                                  #creating axis\n",
    "    ax.set_xlim(x_0,x_0+lx); ax.set_ylim(y_0,y_0+ly)                                #set limits\n",
    "    #for i in range (nx+1):\n",
    "         #ax.plot([x_0+dx*i,x_0+dx*i],[y_0,ly+y_0], c=(0.9, 0.9, 0.9, 1.0) )          #Plot X lines\n",
    "         #for j in range (ny+1):\n",
    "             #ax.plot([x_0,lx+x_0],[y_0+dy*j,y_0+dy*j], c=(0.9, 0.9, 0.9, 1.0) )      #Plot Y lines\n",
    "    ax.scatter(Water_l.MPC()[:,0], Water_l.MPC()[:,1] ,s=Water_l.MPC()[:,4]*1e5,c='c')\n",
    "    ax.scatter(Water_h.MPC()[:,0], Water_h.MPC()[:,1] ,s=Water_h.MPC()[:,4]*1e5,c='b')\n",
    "    ax.set_aspect(aspect='equal')\n",
    "    filename = 'Mixture_'+str(current_time)+'.png'\n",
    "    fig.savefig(os.path.join(plotstarget_directory, filename), dpi=400, bbox_inches=\"tight\")\n",
    "    plt.close()                                                                     #prevent plotting in jupyter notebook\n",
    "    return"
   ]
  },
  {
   "cell_type": "code",
   "execution_count": 7,
   "metadata": {},
   "outputs": [
    {
     "output_type": "stream",
     "name": "stderr",
     "text": [
      "100%|██████████| 200/200 [1:20:37<00:00, 24.19s/it]--- 4838.506639957428 seconds ---\n",
      "\n"
     ]
    }
   ],
   "source": [
    "#Running through time steps\n",
    "t = 0                                             #start time\n",
    "T = 2; dt = 1e-6                                  #Total time and time step\n",
    "alpha = 0                                         #damping factor\n",
    "NoS = int(T/dt)                                   #Number of time steps\n",
    "noMicroSteps = int(10000)                         #Incremental time step for solver\n",
    "noMacroSteps = int(NoS/noMicroSteps)              #Number of vtk files\n",
    "\n",
    "FluidSolver = MPM_2D.MPM_Solver()\n",
    "FluidSolver.addBC(lambda X: True if (X[1] == 0.0) else False, vy=0.0)\n",
    "FluidSolver.addBC(lambda X: True if (X[0] == 0.0) else False, vx=0.0)\n",
    "FluidSolver.addBC(lambda X: True if (X[0] == 0.12) else False, vx=0.0)\n",
    "Bodies = [Water_l, Water_h]\n",
    "\n",
    "start_time = time.time()\n",
    "save_plot(0)\n",
    "for step in trange (noMacroSteps):\n",
    "    FluidSolver.Solve(Grid, Bodies, noMicroSteps, dt, alpha)\n",
    "    save_plot(step+1)\n",
    "print(\"--- %s seconds ---\" % (time.time() - start_time))"
   ]
  },
  {
   "cell_type": "code",
   "execution_count": null,
   "metadata": {},
   "outputs": [],
   "source": []
  }
 ]
}